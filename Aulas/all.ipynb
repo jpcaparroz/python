{
 "cells": [
  {
   "cell_type": "markdown",
   "metadata": {},
   "source": [
    "### Ternary Operator (Operador Ternário)"
   ]
  },
  {
   "cell_type": "code",
   "execution_count": null,
   "metadata": {},
   "outputs": [],
   "source": [
    "age = 15\n",
    "\n",
    "result = 'Vote confirmed' if age >= 16 else 'Vote denied'\n",
    "\n",
    "print(result)"
   ]
  },
  {
   "cell_type": "markdown",
   "metadata": {},
   "source": [
    "### While Loop"
   ]
  },
  {
   "cell_type": "code",
   "execution_count": null,
   "metadata": {},
   "outputs": [],
   "source": [
    "value = int(input('Digit the value of product: '))\n",
    "\n",
    "while value >= 20:\n",
    "    final_value = (value * 0.1) + value\n",
    "    value = final_value\n",
    "    break\n",
    "\n",
    "print(f'The final value of product is: {value}')"
   ]
  },
  {
   "cell_type": "markdown",
   "metadata": {},
   "source": [
    "### Functions (def)"
   ]
  },
  {
   "cell_type": "code",
   "execution_count": null,
   "metadata": {},
   "outputs": [],
   "source": [
    "#Default Parameter\n",
    "def welcome_default(name:str, age:int=6) -> None:\n",
    "    print(f'Hi {name}, you are welcome')\n",
    "    print(f'Age: {str(age)}')\n",
    "    \n",
    "welcome_default('John', 24)\n",
    "\n",
    "#Non-Default Parameter\n",
    "def welcome_non_default(name:str, age:int) -> None:\n",
    "    print(f'Hi {name}, you are welcome')\n",
    "    print(f'Age: {str(age)}')\n",
    "    \n",
    "welcome_non_default('John', 24)"
   ]
  },
  {
   "cell_type": "code",
   "execution_count": 12,
   "metadata": {},
   "outputs": [
    {
     "data": {
      "text/plain": [
       "27"
      ]
     },
     "execution_count": 12,
     "metadata": {},
     "output_type": "execute_result"
    }
   ],
   "source": [
    "#xargs\n",
    "def summ(*numbers: int) -> int:\n",
    "    result = 0\n",
    "    \n",
    "    for num in numbers:\n",
    "        result += num\n",
    "    \n",
    "    return result\n",
    "\n",
    "summ(5,6,5,6,5)"
   ]
  },
  {
   "cell_type": "code",
   "execution_count": 13,
   "metadata": {},
   "outputs": [
    {
     "name": "stdout",
     "output_type": "stream",
     "text": [
      "{'model': 'hybrid', 'color': 'white'}\n"
     ]
    }
   ],
   "source": [
    "#xargs xparams\n",
    "def car_check(**car):\n",
    "    return car\n",
    "\n",
    "print(car_check(model='hybrid', color='white'))"
   ]
  }
 ],
 "metadata": {
  "kernelspec": {
   "display_name": "Python 3",
   "language": "python",
   "name": "python3"
  },
  "language_info": {
   "codemirror_mode": {
    "name": "ipython",
    "version": 3
   },
   "file_extension": ".py",
   "mimetype": "text/x-python",
   "name": "python",
   "nbconvert_exporter": "python",
   "pygments_lexer": "ipython3",
   "version": "3.11.5"
  }
 },
 "nbformat": 4,
 "nbformat_minor": 2
}

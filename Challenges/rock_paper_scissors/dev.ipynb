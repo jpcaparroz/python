{
 "cells": [
  {
   "cell_type": "code",
   "execution_count": null,
   "metadata": {},
   "outputs": [],
   "source": [
    "from rock_paper_scissors.classes import Player, Match\n",
    "\n",
    "p1 = Player('John')\n",
    "p1.move = 'OI'\n",
    "p2 = Player('Pedro')\n",
    "\n",
    "mat = Match(p1, p2)\n",
    "\n",
    "print(p1.move)"
   ]
  },
  {
   "cell_type": "code",
   "execution_count": null,
   "metadata": {},
   "outputs": [],
   "source": [
    "from rock_paper_scissors.classes import Player, Round\n",
    "\n",
    "p1 = Player('John')\n",
    "p2 = Player('Flip')\n",
    "\n",
    "p1.random_move()\n",
    "p2.random_move()\n",
    "\n",
    "print(p1.move)\n",
    "print(p2.move)\n",
    "ro = Round(p1, p2)\n",
    "ro.game()"
   ]
  },
  {
   "cell_type": "code",
   "execution_count": null,
   "metadata": {},
   "outputs": [],
   "source": [
    "from rock_paper_scissors.classes import Player, Match\n",
    "\n",
    "\n",
    "p1 = Player('John')\n",
    "p2 = Player('Flip')\n",
    "\n",
    "p1.random_move()\n",
    "p2.random_move()\n",
    "\n",
    "mat = Match(p1, p2, 5)\n",
    "\n",
    "mat.play()"
   ]
  },
  {
   "cell_type": "code",
   "execution_count": null,
   "metadata": {},
   "outputs": [],
   "source": [
    "from rock_paper_scissors.classes import Player, Round\n",
    "\n",
    "\n",
    "p1 = Player('John')\n",
    "p2 = Player('Flip')\n",
    "\n",
    "p1.random_move()\n",
    "p2.random_move()\n",
    "\n",
    "r = Round(p1, p2)\n",
    "\n",
    "print(p1.move)\n",
    "print(p2.move)\n",
    "\n",
    "r.game()\n"
   ]
  },
  {
   "cell_type": "code",
   "execution_count": 34,
   "metadata": {},
   "outputs": [
    {
     "name": "stdout",
     "output_type": "stream",
     "text": [
      "<bound method Player.move of <rock_paper_scissors.classes.player.Player object at 0x0000017A65D8E250>>\n",
      "<bound method Player.move of <rock_paper_scissors.classes.player.Player object at 0x0000017A65D5F0D0>>\n",
      "DRAW\n"
     ]
    }
   ],
   "source": [
    "from rock_paper_scissors.classes import Player, Round\n",
    "\n",
    "\n",
    "p1 = Player('John')\n",
    "p2 = Player('Flip')\n",
    "\n",
    "r = Round(p1, p2)\n",
    "\n",
    "print(p1.move)\n",
    "print(p2.move)\n",
    "\n",
    "print(r.automatic_game())"
   ]
  },
  {
   "cell_type": "code",
   "execution_count": 58,
   "metadata": {},
   "outputs": [
    {
     "data": {
      "text/plain": [
       "['DRAW',\n",
       " 'John',\n",
       " 'Flip',\n",
       " 'DRAW',\n",
       " 'Flip',\n",
       " 'DRAW',\n",
       " 'Flip',\n",
       " 'John',\n",
       " 'John',\n",
       " 'DRAW']"
      ]
     },
     "execution_count": 58,
     "metadata": {},
     "output_type": "execute_result"
    }
   ],
   "source": [
    "from rock_paper_scissors.classes import Player, Match\n",
    "\n",
    "\n",
    "p1 = Player('John')\n",
    "p2 = Player('Flip')\n",
    "\n",
    "r = Match(p1, p2, 10)\n",
    "\n",
    "r.play()"
   ]
  }
 ],
 "metadata": {
  "kernelspec": {
   "display_name": "Python 3",
   "language": "python",
   "name": "python3"
  },
  "language_info": {
   "codemirror_mode": {
    "name": "ipython",
    "version": 3
   },
   "file_extension": ".py",
   "mimetype": "text/x-python",
   "name": "python",
   "nbconvert_exporter": "python",
   "pygments_lexer": "ipython3",
   "version": "3.11.5"
  }
 },
 "nbformat": 4,
 "nbformat_minor": 2
}

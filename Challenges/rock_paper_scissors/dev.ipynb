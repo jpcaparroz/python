{
 "cells": [
  {
   "cell_type": "code",
   "execution_count": null,
   "metadata": {},
   "outputs": [],
   "source": [
    "from rock_paper_scissors.classes import Player, Round\n",
    "\n",
    "\n",
    "p1 = Player('John')\n",
    "p2 = Player('Flip')\n",
    "\n",
    "r = Round(p1, p2)\n",
    "\n",
    "print(p1.move)\n",
    "print(p2.move)\n",
    "\n",
    "print(r.automatic_game())"
   ]
  },
  {
   "cell_type": "code",
   "execution_count": 6,
   "metadata": {},
   "outputs": [
    {
     "name": "stdout",
     "output_type": "stream",
     "text": [
      "['Peter', 'Peter', 'Peter', 'Peter', 'Peter']\n"
     ]
    }
   ],
   "source": [
    "from rock_paper_scissors.classes import Player, Match\n",
    "\n",
    "\n",
    "p1 = Player('John')\n",
    "p2 = Player('Peter')\n",
    "\n",
    "r = Match(p1, p2, 5)\n",
    "\n",
    "print(r.play())"
   ]
  }
 ],
 "metadata": {
  "kernelspec": {
   "display_name": "Python 3",
   "language": "python",
   "name": "python3"
  },
  "language_info": {
   "codemirror_mode": {
    "name": "ipython",
    "version": 3
   },
   "file_extension": ".py",
   "mimetype": "text/x-python",
   "name": "python",
   "nbconvert_exporter": "python",
   "pygments_lexer": "ipython3",
   "version": "3.11.5"
  }
 },
 "nbformat": 4,
 "nbformat_minor": 2
}

{
 "cells": [
  {
   "cell_type": "code",
   "execution_count": 1,
   "metadata": {},
   "outputs": [],
   "source": [
    "import json\n",
    "\n",
    "with open('response.json', encoding = 'utf-8') as f:\n",
    "    json_file = json.load(f)"
   ]
  },
  {
   "cell_type": "code",
   "execution_count": 2,
   "metadata": {},
   "outputs": [
    {
     "name": "stdout",
     "output_type": "stream",
     "text": [
      "}CellSecurity_PAR_Premissas_CNPJ_Funcionario\n",
      "}CellSecurity_PAR_Premissas_Gerais\n",
      "}CellSecurity_PAR_Premissas_Mensais\n",
      "}CellSecurity_PAR_Premissas_Operadora\n",
      "}CellSecurity_PAR_Premissas_Planos\n",
      "}CellSecurity_PAR_Premissas_Sindicais\n",
      "}CellSecurity_PAR_Premissas_Tabela_Salarial\n",
      "}CellSecurity_PAR_Premissas_Worklevel_Pais\n",
      "}CellSecurity_PAR_Premissas_Worklevel_Sindicato_Pais\n",
      "}CellSecurity_RHX_Admissao\n",
      "}CellSecurity_RHX_Calculo_RH\n",
      "}CellSecurity_RHX_Calculo_RH_Simulacao\n",
      "}CellSecurity_RHX_Confirmacao_Transferencia_RH\n",
      "}CellSecurity_RHX_Contribuicao_Ceco_Rubricas\n",
      "}CellSecurity_RHX_Contribuicao_Ceco_Rubricas_Versao\n",
      "}CellSecurity_RHX_Movimentacao_RH\n",
      "}CellSecurity_RHX_Movimentacao_RH_Versao\n",
      "}CellSecurity_SEG_Matriz_Simulacao\n",
      "}CellSecurity_SYS_Matriz_Base_Calculo\n",
      "}CellSecurity_SYS_Status_Colab\n",
      "}CellSecurity_}tp_application_root_permissions\n"
     ]
    }
   ],
   "source": [
    "for cube_name in json_file.get('value'):\n",
    "    if cube_name.get('Name'):\n",
    "        if '}CellSecurity' in cube_name.get('Name')[:13]:\n",
    "            print(cube_name.get('Name'))\n",
    "        "
   ]
  }
 ],
 "metadata": {
  "kernelspec": {
   "display_name": "Python 3",
   "language": "python",
   "name": "python3"
  },
  "language_info": {
   "codemirror_mode": {
    "name": "ipython",
    "version": 3
   },
   "file_extension": ".py",
   "mimetype": "text/x-python",
   "name": "python",
   "nbconvert_exporter": "python",
   "pygments_lexer": "ipython3",
   "version": "3.11.4"
  },
  "orig_nbformat": 4
 },
 "nbformat": 4,
 "nbformat_minor": 2
}
